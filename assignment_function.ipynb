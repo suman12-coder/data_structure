{
  "nbformat": 4,
  "nbformat_minor": 0,
  "metadata": {
    "colab": {
      "provenance": [],
      "toc_visible": true
    },
    "kernelspec": {
      "name": "python3",
      "display_name": "Python 3"
    },
    "language_info": {
      "name": "python"
    }
  },
  "cells": [
    {
      "cell_type": "markdown",
      "source": [
        "# Function"
      ],
      "metadata": {
        "id": "UlkJ8aj6ydr4"
      }
    },
    {
      "cell_type": "markdown",
      "source": [
        "#Theory"
      ],
      "metadata": {
        "id": "iv7hSDlDyk3z"
      }
    },
    {
      "cell_type": "markdown",
      "source": [
        "1. What is the difference between a function and a method in Python?\n",
        "-  Difference between Function and Method in Python :\n",
        "\n",
        "Function: A block of code that performs a specific task and is defined using def.\n",
        "\n",
        "Method: A function that is associated with an object and is called using dot notation.\n",
        "Example:"
      ],
      "metadata": {
        "id": "ANmIptKOyx4X"
      }
    },
    {
      "cell_type": "code",
      "execution_count": null,
      "metadata": {
        "id": "3dihoI5gyUPT",
        "colab": {
          "base_uri": "https://localhost:8080/",
          "height": 36
        },
        "outputId": "8c8b260c-d84a-47d9-f8de-b225730172c4"
      },
      "outputs": [
        {
          "output_type": "execute_result",
          "data": {
            "text/plain": [
              "'HELLO'"
            ],
            "application/vnd.google.colaboratory.intrinsic+json": {
              "type": "string"
            }
          },
          "metadata": {},
          "execution_count": 1
        }
      ],
      "source": [
        "def greet():  # Function\n",
        "    print(\"Hello\")\n",
        "\n",
        "\"hello\".upper()  # Method"
      ]
    },
    {
      "cell_type": "markdown",
      "source": [
        "2. Explain the concept of function arguments and parameters in Python.\n",
        "-  Function Arguments and Parameters\n",
        "\n",
        " - Parameters are the variables listed in a function’s definition.\n",
        "\n",
        " - Arguments are the actual values passed to the function when it is called.\n",
        "\n",
        "\n",
        "Example:\n",
        "\n"
      ],
      "metadata": {
        "id": "DT_DiGxh0rWm"
      }
    },
    {
      "cell_type": "code",
      "source": [
        "def add(a, b):  # a and b are parameters\n",
        "    return a + b\n",
        "\n",
        "add(3, 4)  # 3 and 4 are arguments\n"
      ],
      "metadata": {
        "colab": {
          "base_uri": "https://localhost:8080/"
        },
        "id": "KqdrbWl31Nxh",
        "outputId": "c66cf1f8-4913-41ed-90a6-a5905af8e5a4"
      },
      "execution_count": null,
      "outputs": [
        {
          "output_type": "execute_result",
          "data": {
            "text/plain": [
              "7"
            ]
          },
          "metadata": {},
          "execution_count": 2
        }
      ]
    },
    {
      "cell_type": "markdown",
      "source": [
        "3. What are the different ways to define and call a function in Python?\n",
        "- Defining: Use def keyword or lambda.\n",
        "- Calling: Use function name followed by parentheses.\n",
        "\n",
        "\n",
        "Example:\n",
        "\n",
        "\n"
      ],
      "metadata": {
        "id": "esJhJS7n1ZjY"
      }
    },
    {
      "cell_type": "code",
      "source": [
        "def square(x):  # using def\n",
        "    return x * x\n",
        "\n",
        "square(5)  # call\n"
      ],
      "metadata": {
        "colab": {
          "base_uri": "https://localhost:8080/"
        },
        "id": "SPcm-oLW1zv0",
        "outputId": "9d5077f0-e0ad-4e27-c32c-d5595a9118ce"
      },
      "execution_count": null,
      "outputs": [
        {
          "output_type": "execute_result",
          "data": {
            "text/plain": [
              "25"
            ]
          },
          "metadata": {},
          "execution_count": 3
        }
      ]
    },
    {
      "cell_type": "markdown",
      "source": [
        "4.What is the purpose of the return statement in a Python function?\n",
        "- Purpose of return Statement:\n",
        "It ends a function and optionally sends a result back to the caller.\n",
        "\n",
        "Example:\n",
        "\n"
      ],
      "metadata": {
        "id": "9Isa1zuS2Hxh"
      }
    },
    {
      "cell_type": "code",
      "source": [
        "def multiply(x, y):\n",
        "    return x * y\n",
        "\n",
        "result = multiply(3, 4)  # returns 12\n"
      ],
      "metadata": {
        "id": "pTPvIV5L2pZV"
      },
      "execution_count": null,
      "outputs": []
    },
    {
      "cell_type": "markdown",
      "source": [
        "5.What are iterators in Python and how do they differ from iterables?\n",
        "- Iterable: An object capable of returning its members one by one (e.g., list, string).\n",
        "\n",
        "Iterator: An object representing a stream of data and returning the data one by one with next() and ite() methods.\n",
        "\n",
        "\n",
        "Example:\n",
        "\n"
      ],
      "metadata": {
        "id": "I9K6abtK2vFl"
      }
    },
    {
      "cell_type": "code",
      "source": [
        "lst = [1, 2, 3]  # Iterable\n",
        "it = iter(lst)   # Iterator\n",
        "\n",
        "print(next(it))  # 1\n",
        "print(next(it))  # 2\n",
        "print(next(it))  # 3\n",
        "\n"
      ],
      "metadata": {
        "colab": {
          "base_uri": "https://localhost:8080/"
        },
        "id": "E1YfG7vJ4NOw",
        "outputId": "0cccbc35-9370-4416-e679-322de15c1768"
      },
      "execution_count": null,
      "outputs": [
        {
          "output_type": "stream",
          "name": "stdout",
          "text": [
            "1\n",
            "2\n",
            "3\n"
          ]
        }
      ]
    },
    {
      "cell_type": "markdown",
      "source": [
        "6. Explain the concept of generators in Python and how they are defined.\n",
        "- Generators are a simple way to create iterators using functions and the yield keyword instead of returning values.\n",
        "Examples:\n"
      ],
      "metadata": {
        "id": "-6LY338V5-sz"
      }
    },
    {
      "cell_type": "code",
      "source": [
        "def count_up_to(n):\n",
        "    i = 1\n",
        "    while i <= n:\n",
        "        yield i\n",
        "        i += 1"
      ],
      "metadata": {
        "id": "LC9CmsWO5hXU"
      },
      "execution_count": null,
      "outputs": []
    },
    {
      "cell_type": "markdown",
      "source": [
        "7.  What are the advantages of using generators over regular functions?\n",
        "\n",
        " - On-Demand Data: Generators produce values one at a time and only when required, avoiding the need to generate or store all values upfront.\n",
        "  - Memory Efficiency: Since values are generated as needed and not all at once, generators use minimal memory.\n",
        "  \n"
      ],
      "metadata": {
        "id": "pGv6zPlC79hW"
      }
    },
    {
      "cell_type": "code",
      "source": [
        "gen = (x*x for x in range(5))  # generator expression\n",
        "next(gen) #0\n",
        "next(gen) #1"
      ],
      "metadata": {
        "id": "xlnRHc9R5q54",
        "colab": {
          "base_uri": "https://localhost:8080/"
        },
        "outputId": "ee58a413-94e7-4bc3-b0ab-8a7bb96c6454"
      },
      "execution_count": null,
      "outputs": [
        {
          "output_type": "execute_result",
          "data": {
            "text/plain": [
              "1"
            ]
          },
          "metadata": {},
          "execution_count": 12
        }
      ]
    },
    {
      "cell_type": "markdown",
      "source": [
        "8. What is a lambda function in Python and when is it typically used?\n",
        "- Lambda functions are small, anonymous functions defined using the lambda keyword. They are used for creating small, throwaway functions without the need to formally define a function using def.\n",
        "Eexample:\n"
      ],
      "metadata": {
        "id": "uTyly0Am9VCJ"
      }
    },
    {
      "cell_type": "code",
      "source": [
        "square_no = lambda x: x**2\n",
        "square_no(2) #output is 4"
      ],
      "metadata": {
        "id": "_rr4tCVF9B1W",
        "colab": {
          "base_uri": "https://localhost:8080/"
        },
        "outputId": "63dea74c-0c48-4c5b-8355-f68994d0aa36"
      },
      "execution_count": null,
      "outputs": [
        {
          "output_type": "execute_result",
          "data": {
            "text/plain": [
              "4"
            ]
          },
          "metadata": {},
          "execution_count": 13
        }
      ]
    },
    {
      "cell_type": "markdown",
      "source": [
        "9. Explain the purpose and usage of the map() function in Python.\n",
        "- The map function applies a given function to all items in an input iterable (like a list) and returns an iterator with the results.\n",
        "- It is sed to transform each item in an iterable by applying the specified function.\n",
        "Syntax:\n",
        "map(function, iterable)\n",
        "Example:\n"
      ],
      "metadata": {
        "id": "ltzxFmXV-ia4"
      }
    },
    {
      "cell_type": "code",
      "source": [
        "numbers = [1, 2, 3, 4, 5]\n",
        "squared = map(lambda x: x**2, numbers)\n",
        "list(squared) #output is [1, 4, 9, 16, 25]"
      ],
      "metadata": {
        "id": "iW6jxb4i-guQ",
        "colab": {
          "base_uri": "https://localhost:8080/"
        },
        "outputId": "05a7abb8-4945-41dd-b7c5-666ac4a67973"
      },
      "execution_count": null,
      "outputs": [
        {
          "output_type": "execute_result",
          "data": {
            "text/plain": [
              "[1, 4, 9, 16, 25]"
            ]
          },
          "metadata": {},
          "execution_count": 14
        }
      ]
    },
    {
      "cell_type": "markdown",
      "source": [
        "10. What is the difference between map(), reduce(), and filter() functions in Python?\n",
        "- map(func, iterable): Transforms all items.\n",
        "\n",
        "- filter(func, iterable): Filters items that return True.\n",
        "\n",
        "- reduce(func, iterable): Applies a rolling computation to sequential pairs (from functools).\n",
        "\n",
        "\n",
        "Example:\n",
        "\n"
      ],
      "metadata": {
        "id": "PIh5ssS--jFG"
      }
    },
    {
      "cell_type": "code",
      "source": [
        "from functools import reduce\n",
        "\n",
        "nums = [1, 2, 3, 4]\n",
        "\n",
        "map_result = list(map(lambda x: x*2, nums))        # [2, 4, 6, 8], here map() function transforms all items.\n",
        "filter_result = list(filter(lambda x: x%2==0, nums))  # [2, 4],\n",
        "reduce_result = reduce(lambda x, y: x + y, nums)   # 10"
      ],
      "metadata": {
        "id": "RlMJID_LA7WA"
      },
      "execution_count": null,
      "outputs": []
    },
    {
      "cell_type": "markdown",
      "source": [
        "11.Using pen & Paper write the internal mechanism for sum operation using  reduce function on this given list:[47,11,42,13].\n",
        "(Attach paper image for this answer) in doc or colab notebook."
      ],
      "metadata": {
        "id": "ZyfJ0E12Blsx"
      }
    },
    {
      "cell_type": "code",
      "source": [
        "list1 = [47,11,42,13]\n",
        "from functools import reduce\n",
        "reduce(lambda x,y :x+y,list1)\n",
        "\n",
        "#step 1: 47(x)+11(y)= 58\n",
        "#step 2: 58(x)+42(y)= 100\n",
        "#step 1: 100(x)+13(y)= 113 {final result}\n",
        "\n"
      ],
      "metadata": {
        "id": "zFddElrCA8fK",
        "colab": {
          "base_uri": "https://localhost:8080/"
        },
        "outputId": "0019c0b8-2bd1-4eee-f843-480160edb244"
      },
      "execution_count": null,
      "outputs": [
        {
          "output_type": "execute_result",
          "data": {
            "text/plain": [
              "113"
            ]
          },
          "metadata": {},
          "execution_count": 20
        }
      ]
    },
    {
      "cell_type": "markdown",
      "source": [
        "#Practical Question"
      ],
      "metadata": {
        "id": "Kf1zys_COtxd"
      }
    },
    {
      "cell_type": "markdown",
      "source": [
        "1. Write a Python function that takes a list of numbers as input and returns the sum of all even numbers in\n",
        "the list."
      ],
      "metadata": {
        "id": "OehH2OFAO2v3"
      }
    },
    {
      "cell_type": "code",
      "source": [
        "def sum_even_numbers(numbers):\n",
        "    sum=0\n",
        "    for i in numbers:\n",
        "      if i%2==0:\n",
        "        sum = sum + i\n",
        "    return sum\n",
        "numbers = [1,2,3,4,5,6,7,8,9,10]\n",
        "sum_even_numbers(numbers)\n",
        "\n"
      ],
      "metadata": {
        "colab": {
          "base_uri": "https://localhost:8080/"
        },
        "id": "qyWYXXkNO0qC",
        "outputId": "b7b722a4-8692-4e6c-df54-6261455a8069"
      },
      "execution_count": null,
      "outputs": [
        {
          "output_type": "execute_result",
          "data": {
            "text/plain": [
              "30"
            ]
          },
          "metadata": {},
          "execution_count": 31
        }
      ]
    },
    {
      "cell_type": "markdown",
      "source": [
        "2. Create a Python function that accepts a string and returns the reverse of that string."
      ],
      "metadata": {
        "id": "HQmiS_ndP5eq"
      }
    },
    {
      "cell_type": "code",
      "source": [
        "x = \"suman\"\n",
        "y=lambda x: x[: :-1]\n",
        "print(y(x))"
      ],
      "metadata": {
        "colab": {
          "base_uri": "https://localhost:8080/"
        },
        "id": "pBmdJrI4R6Az",
        "outputId": "8c653b30-8702-4e97-8a84-a81ab47cb8b0"
      },
      "execution_count": null,
      "outputs": [
        {
          "output_type": "stream",
          "name": "stdout",
          "text": [
            "namus\n"
          ]
        }
      ]
    },
    {
      "cell_type": "markdown",
      "source": [
        "3. Implement a Python function that takes a list of integers and returns a new list containing the squares of\n",
        "each number."
      ],
      "metadata": {
        "id": "19zA-2g8O13F"
      }
    },
    {
      "cell_type": "code",
      "source": [
        "a=[1,2,3,4,5,6,7,8,9,10]\n",
        "list(map(lambda x:x**2,a))"
      ],
      "metadata": {
        "colab": {
          "base_uri": "https://localhost:8080/"
        },
        "id": "JfPM6rxfTfNa",
        "outputId": "0e750459-aaf2-4fa1-c5c6-d899609666ec"
      },
      "execution_count": null,
      "outputs": [
        {
          "output_type": "execute_result",
          "data": {
            "text/plain": [
              "[1, 4, 9, 16, 25, 36, 49, 64, 81, 100]"
            ]
          },
          "metadata": {},
          "execution_count": 37
        }
      ]
    },
    {
      "cell_type": "markdown",
      "source": [
        "4. Write a Python function that checks if a given number is prime or not from 1 to 200.\n"
      ],
      "metadata": {
        "id": "EMLHjLGiT1tQ"
      }
    },
    {
      "cell_type": "code",
      "source": [
        "def is_prime(number):#Check if a number is a prime number.\"\"\"\n",
        "    if number < 2:\n",
        "        return False  # Numbers less than 2 are not prime\n",
        "\n",
        "    for i in range(2, number):\n",
        "        if number % i == 0:\n",
        "            return False  # If divisible by any number other than 1 and itself, not prime\n",
        "\n",
        "    return True  # It's a prime number\n",
        "\n",
        "# Print prime numbers from 1 to 200\n",
        "for num in range(1, 201):\n",
        "    if is_prime(num):\n",
        "        print(num)\n"
      ],
      "metadata": {
        "colab": {
          "base_uri": "https://localhost:8080/"
        },
        "id": "KPqZ2YHTTxML",
        "outputId": "4ff0409b-4ca9-4e9b-a5fe-09096973a950"
      },
      "execution_count": null,
      "outputs": [
        {
          "output_type": "stream",
          "name": "stdout",
          "text": [
            "2\n",
            "3\n",
            "5\n",
            "7\n",
            "11\n",
            "13\n",
            "17\n",
            "19\n",
            "23\n",
            "29\n",
            "31\n",
            "37\n",
            "41\n",
            "43\n",
            "47\n",
            "53\n",
            "59\n",
            "61\n",
            "67\n",
            "71\n",
            "73\n",
            "79\n",
            "83\n",
            "89\n",
            "97\n",
            "101\n",
            "103\n",
            "107\n",
            "109\n",
            "113\n",
            "127\n",
            "131\n",
            "137\n",
            "139\n",
            "149\n",
            "151\n",
            "157\n",
            "163\n",
            "167\n",
            "173\n",
            "179\n",
            "181\n",
            "191\n",
            "193\n",
            "197\n",
            "199\n"
          ]
        }
      ]
    },
    {
      "cell_type": "markdown",
      "source": [
        "5. Create an iterator class in Python that generates the Fibonacci sequence up to a specified number of terms."
      ],
      "metadata": {
        "id": "JdbH4x5DYZk1"
      }
    },
    {
      "cell_type": "code",
      "source": [
        "def fibo(n):\n",
        "  a = 0\n",
        "  b = 1\n",
        "  for i in range(n):\n",
        "    yield a\n",
        "    a,b = b, a+b\n",
        "fib1 = fibo(10)\n",
        "for j in fib1:\n",
        "  print (j)"
      ],
      "metadata": {
        "colab": {
          "base_uri": "https://localhost:8080/"
        },
        "id": "8Bi4mo6rX28v",
        "outputId": "f8d62337-5c6f-425d-b991-9a3e39a69d67"
      },
      "execution_count": null,
      "outputs": [
        {
          "output_type": "stream",
          "name": "stdout",
          "text": [
            "0\n",
            "1\n",
            "1\n",
            "2\n",
            "3\n",
            "5\n",
            "8\n",
            "13\n",
            "21\n",
            "34\n"
          ]
        }
      ]
    },
    {
      "cell_type": "markdown",
      "source": [
        "6. Write a generator function in Python that yields the powers of 2 up to a given exponent."
      ],
      "metadata": {
        "id": "I91QCy9SZ1ly"
      }
    },
    {
      "cell_type": "code",
      "source": [
        "def power_of_two(n):\n",
        "  list1 =[]\n",
        "  for i in range(n):\n",
        "    list1.append(i*i)\n",
        "  yield list1\n",
        "square_list1 = power_of_two(10)\n",
        "for j in square_list1:\n",
        "  print(j)\n"
      ],
      "metadata": {
        "colab": {
          "base_uri": "https://localhost:8080/"
        },
        "id": "mPVlFxdEZvPW",
        "outputId": "0ef43475-28d6-40be-af8c-9466cf3656f0"
      },
      "execution_count": null,
      "outputs": [
        {
          "output_type": "stream",
          "name": "stdout",
          "text": [
            "[0, 1, 4, 9, 16, 25, 36, 49, 64, 81]\n"
          ]
        }
      ]
    },
    {
      "cell_type": "markdown",
      "source": [
        "7. Implement a generator function that reads a file line by line and yields each line as a string."
      ],
      "metadata": {
        "id": "_K-ViImOZ2wP"
      }
    },
    {
      "cell_type": "code",
      "source": [
        "#create a sample file to test\n",
        "with open('sample.txt', 'w') as f:\n",
        "    f.write('Hello\\n')\n",
        "    f.write('This is a test file.\\n')\n",
        "def read_file(file_path):\n",
        "    with open(file_path, 'r') as file:\n",
        "        for line in file:\n",
        "            yield line.strip()\n",
        "for line in read_file('sample.txt'):\n",
        "    print(line)\n"
      ],
      "metadata": {
        "colab": {
          "base_uri": "https://localhost:8080/"
        },
        "id": "kIVbUSiMbtw9",
        "outputId": "b037c4ab-000f-45b8-84c7-157f8aa69e0b"
      },
      "execution_count": null,
      "outputs": [
        {
          "output_type": "stream",
          "name": "stdout",
          "text": [
            "Hello\n",
            "This is a test file.\n"
          ]
        }
      ]
    },
    {
      "cell_type": "markdown",
      "source": [
        "8. Use a lambda function in Python to sort a list of tuples based on the second element of each tuple."
      ],
      "metadata": {
        "id": "Zsc_iIM8budl"
      }
    },
    {
      "cell_type": "code",
      "source": [
        "my_list = [(1, 3), (4, 1), (2, 2), (5, 0)]\n",
        "sorted_list = sorted(my_list, key=lambda x: x[1])\n",
        "print(sorted_list)\n"
      ],
      "metadata": {
        "colab": {
          "base_uri": "https://localhost:8080/"
        },
        "id": "dPBrSQ-4cGoM",
        "outputId": "2964cee8-d5f4-4a91-c1d8-ea8442a04bac"
      },
      "execution_count": null,
      "outputs": [
        {
          "output_type": "stream",
          "name": "stdout",
          "text": [
            "[(5, 0), (4, 1), (2, 2), (1, 3)]\n"
          ]
        }
      ]
    },
    {
      "cell_type": "markdown",
      "source": [
        "9. Write a Python program that uses `map()` to convert a list of temperatures from Celsius to Fahrenheit."
      ],
      "metadata": {
        "id": "I8jIkDzSc9Zc"
      }
    },
    {
      "cell_type": "code",
      "source": [
        "b=[10,20,30,40,50]\n",
        "kl= list(map( lambda f: (f*9/5)+32, b))\n",
        "print(f'Celcius is: {b}')\n",
        "print(f'Fahrenheit is: {kl}')"
      ],
      "metadata": {
        "colab": {
          "base_uri": "https://localhost:8080/"
        },
        "id": "rORO4U6jcSxi",
        "outputId": "211ce50e-31d0-44e1-d6dc-9499e69564ae"
      },
      "execution_count": null,
      "outputs": [
        {
          "output_type": "stream",
          "name": "stdout",
          "text": [
            "Celcius is: [10, 20, 30, 40, 50]\n",
            "Fahrenheit is: [50.0, 68.0, 86.0, 104.0, 122.0]\n"
          ]
        }
      ]
    },
    {
      "cell_type": "markdown",
      "source": [
        "10. Create a Python program that uses `filter()` to remove all the vowels from a given string."
      ],
      "metadata": {
        "id": "siOxARqifaBQ"
      }
    },
    {
      "cell_type": "code",
      "source": [
        "s = \"Suman\"\n",
        "vowel = 'aeiouAEIOU'\n",
        "list(filter(lambda x: x not in vowel,s))"
      ],
      "metadata": {
        "colab": {
          "base_uri": "https://localhost:8080/"
        },
        "id": "broQnljTfZbq",
        "outputId": "51021068-3591-4883-900d-2220186f7fda"
      },
      "execution_count": null,
      "outputs": [
        {
          "output_type": "execute_result",
          "data": {
            "text/plain": [
              "['S', 'm', 'n']"
            ]
          },
          "metadata": {},
          "execution_count": 55
        }
      ]
    },
    {
      "cell_type": "markdown",
      "source": [
        "11. Imagine an accounting routine used in a book shop. It works on a list with sublists, which look like this:  \n",
        "[order number    book title and author   quantity    price per item]\n",
        "    [34587, \"Learning Python, Mark Lutz\", 4, 40.95],\n",
        "    [98762, \"Programming Python, Mark Lutz\", 5, 56.80],\n",
        "    [77226, \"Head First Python, Paul Barry\", 3, 32.95],\n",
        "    [88112, \"Einführung in Python3, Bernd Klein\", 3, 24.99]]\n",
        "\n",
        "\n",
        "Write a Python program, which returns a list with 2-tuples. Each tuple consists of the order number and the\n",
        "product of the price per item and the quantity. The product should be increased by 10,- € if the value of the\n",
        "order is smaller than 100,00 €.\n",
        "Write a Python program using lambda and map."
      ],
      "metadata": {
        "id": "2pNpLOdHp-Ck"
      }
    },
    {
      "cell_type": "code",
      "source": [
        "orders = [\n",
        "    [34587, \"Learning Python, Mark Lutz\", 4, 40.95],\n",
        "    [98762, \"Programming Python, Mark Lutz\", 5, 56.80],\n",
        "    [77226, \"Head First Python, Paul Barry\", 3, 32.95],\n",
        "    [88112, \"Einführung in Python3, Bernd Klein\", 3, 24.99]]\n",
        "result = list(map(lambda order:(order[0],  order[2] * order[3] if order[2] * order[3] >= 100 else order[2] * order[3] + 10), orders))\n",
        "print(result)\n"
      ],
      "metadata": {
        "id": "lnkMZJBNeNgb",
        "colab": {
          "base_uri": "https://localhost:8080/"
        },
        "outputId": "7c001ff8-2ed9-4ffb-a612-d4ad88bcac73"
      },
      "execution_count": null,
      "outputs": [
        {
          "output_type": "stream",
          "name": "stdout",
          "text": [
            "[(34587, 163.8), (98762, 284.0), (77226, 108.85000000000001), (88112, 84.97)]\n"
          ]
        }
      ]
    }
  ]
}