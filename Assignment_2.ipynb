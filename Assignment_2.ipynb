{
  "nbformat": 4,
  "nbformat_minor": 0,
  "metadata": {
    "colab": {
      "provenance": [],
      "toc_visible": true
    },
    "kernelspec": {
      "name": "python3",
      "display_name": "Python 3"
    },
    "language_info": {
      "name": "python"
    }
  },
  "cells": [
    {
      "cell_type": "markdown",
      "source": [
        "#Data Types and Structure"
      ],
      "metadata": {
        "id": "zot_FVvyUD-l"
      }
    },
    {
      "cell_type": "markdown",
      "source": [
        "1.What are data structures, and why are they important?\n",
        " - Data structures are specialized formats for organizing, storing, and accessing collections of data. They provide efficient ways to manage information based on its characteristics and intended use.\n",
        " - Why are they important?\n",
        "\n",
        "   Choosing the right data structure significantly impacts the efficiency and performance of your program.\n",
        "   \n",
        "   Well-chosen data structures can:\n",
        "\n",
        "   Simplify data manipulation (adding, removing, modifying elements) ,\n",
        "   Optimize searching and sorting operations ,\n",
        "   Conserve memory usage.\n"
      ],
      "metadata": {
        "id": "5srlWJfMVgFJ"
      }
    },
    {
      "cell_type": "markdown",
      "source": [
        "2.Explain the difference between mutable and immutable data types with examples.\n",
        " - In programming, especially in languages like Python, mutable and immutable refer to whether or not an object’s value can be changed after it has been created.\n",
        " - Mutable Data Types\n",
        "  - Mutable objects can be changed after they are created. This means their content (e.g., elements, values) can be altered without changing their identity (memory address).\n",
        "  -Examples: list ,dict (dictionary),set.\n",
        " - Immutable Data Types\n",
        "  - Immutable objects cannot be changed after they are created. If you try to change their value, a new object is created.\n",
        "  -Examples: int, float, bool, str,tuple.\n",
        "\n",
        "\n"
      ],
      "metadata": {
        "id": "aShmtchGVfsc"
      }
    },
    {
      "cell_type": "markdown",
      "source": [
        "3. What are the main differences between lists and tuples in Python?\n",
        "- Differences are :\n",
        "  -  list is mutable and tuple is immutable data types.\n",
        "  -  performance of tuple is faster than list.\n",
        "  -  for list we use Square brackets [ ],and for tuple we use Parentheses ( ).\n",
        "  - list use for dynamic data and tuple use for static data."
      ],
      "metadata": {
        "id": "fQY5DG7nVfib"
      }
    },
    {
      "cell_type": "markdown",
      "source": [
        "4. Describe how dictionaries store data?\n",
        "-  A dictionary (also called a hash map or associative array) is a data structure that stores key-value pairs. Each key maps to a value, and you can retrieve the value efficiently by using the key."
      ],
      "metadata": {
        "id": "fPphiijXVfaj"
      }
    },
    {
      "cell_type": "markdown",
      "source": [
        "5.Why might you use a set instead of a list in Python?\n",
        " -  Using a set instead of list, when:\n",
        "  - I need to remove duplicates.\n",
        "  - I care about fast membership checking.\n",
        "  - I want to do set math (like union, intersection).\n",
        "  - I don’t care about order.\n",
        "  - Sets are fast and clean — great for storing unique, unordered data."
      ],
      "metadata": {
        "id": "W1P6A5vNVfUD"
      }
    },
    {
      "cell_type": "markdown",
      "source": [
        "6. What is a string in Python, and how is it different from a list?\n",
        "-  A string is a sequence of characters — like letters, numbers, or symbols — enclosed in quotes.\n",
        "- A string is for handling text, and it can’t be changed once created, A list can hold any type of data, and it can be modified."
      ],
      "metadata": {
        "id": "c6aOVcZjVfMj"
      }
    },
    {
      "cell_type": "markdown",
      "source": [
        "7. How do tuples ensure data integrity in Python?\n",
        "- Tuples ensure data integrity in Python by being **immutable**, meaning their contents cannot be changed after creation. This prevents accidental modification of important or constant data. Because they're immutable, tuples are also **hashable**, making them safe to use as dictionary keys. They're ideal for grouping fixed data like coordinates or records. This helps maintain **consistency and reliability** in your programs.\n"
      ],
      "metadata": {
        "id": "1pXQg8ArVezL"
      }
    },
    {
      "cell_type": "markdown",
      "source": [
        "8.What is a hash table, and how does it relate to dictionaries in Python?\n",
        " - A **hash table** is a data structure that stores data in **key-value pairs**, using a **hash function** to quickly find values by their keys. In Python, a **dictionary** is built on top of a hash table.\n",
        "\n",
        "When you use a dictionary:\n",
        "\n",
        "* Python **hashes the key** to get a number.\n",
        "* That number determines **where to store or find** the value in memory.\n",
        "* This makes lookups, insertions, and deletions **very fast (average O(1))**.\n",
        "\n",
        "So, a Python dictionary is basically a **user-friendly interface** to a powerful **hash table** behind the scenes.\n"
      ],
      "metadata": {
        "id": "MsjI7dRri5Ro"
      }
    },
    {
      "cell_type": "markdown",
      "source": [
        "9. Can lists contain different data types in Python?\n",
        "-  Yes, lists in Python can contain different data types.\n",
        "   Python lists are heterogeneous, meaning they can store a mix of:\n",
        "   - Integers (int)\n",
        "   - Floats (float)\n",
        "   - Strings (str)\n",
        "   - Booleans (bool)\n",
        "   - Other lists, dictionaries, or even functions and objects"
      ],
      "metadata": {
        "id": "gBiS8br-i5OD"
      }
    },
    {
      "cell_type": "markdown",
      "source": [
        "10. Explain why strings are immutable in Python?\n",
        "- Strings in Python are immutable, meaning they can't be changed after creation. This improves memory efficiency and performance since Python can reuse string objects. It also makes strings safe to use as dictionary keys. Immutability helps prevent bugs by avoiding accidental changes to data.\n"
      ],
      "metadata": {
        "id": "e415LUa8i5H6"
      }
    },
    {
      "cell_type": "markdown",
      "source": [
        "11. What advantages do dictionaries offer over lists for certain tasks?\n",
        "- Dictionaries offer faster lookups because they use keys and a hash table structure.\n",
        "They allow direct access to values using meaningful keys instead of numeric indexes.\n",
        "Dictionaries are ideal for storing related data pairs (like name → age).\n",
        "They make code more readable and organized, especially for structured data.\n",
        "Unlike lists, dictionaries automatically prevent duplicate keys, ensuring data consistency.\n"
      ],
      "metadata": {
        "id": "zzVn0FVTmGqD"
      }
    },
    {
      "cell_type": "markdown",
      "source": [
        "12.Describe a scenario where using a tuple would be preferable over a list?\n",
        "- A good scenario to use a **tuple instead of a list** is when you have **fixed data that shouldn’t change**, such as the coordinates of a point on a map.\n",
        "\n",
        "For example, `(latitude, longitude)` represents a location — these values shouldn’t be modified accidentally. Using a tuple ensures the data stays **immutable**, protecting its integrity.\n",
        "\n",
        "Also, if you want to use these coordinates as **keys in a dictionary** (e.g., mapping locations to names), tuples are necessary because only immutable types can be dictionary keys.\n",
        "\n",
        "So, tuples are preferable when you need **fixed, hashable, and reliable data**.\n"
      ],
      "metadata": {
        "id": "sxIcrpfcmGls"
      }
    },
    {
      "cell_type": "markdown",
      "source": [
        "13. How do sets handle duplicate values in Python?\n",
        "- Sets in Python automatically remove duplicate values. When you add items to a set, it only keeps one copy of each unique element, so duplicates are ignored.\n",
        "\n",
        "For example:\n",
        "  -  my_set = {1, 2, 2, 3, 3, 3}\n",
        "    print(my_set)  # Output: {1, 2, 3}"
      ],
      "metadata": {
        "id": "XsuMICcamGg6"
      }
    },
    {
      "cell_type": "markdown",
      "source": [
        "14.How does the “in” keyword work differently for lists and dictionaries?\n",
        "- In a list:\n",
        "in checks if a value exists by scanning each element one by one (a linear search).\n",
        "- In a dictionary:\n",
        "in checks if a key exists using a fast hash lookup (not by values)."
      ],
      "metadata": {
        "id": "ivEqpvg8mGcd"
      }
    },
    {
      "cell_type": "markdown",
      "source": [
        "15.Can you modify the elements of a tuple? Explain why or why not?\n",
        "- No, you cannot modify the elements of a tuple because tuples are immutable in Python. This means once a tuple is created, its contents cannot be changed — you can’t add, remove, or update elements."
      ],
      "metadata": {
        "id": "0u6iWGVOmGTL"
      }
    },
    {
      "cell_type": "markdown",
      "source": [
        "16. What is a nested dictionary, and give an example of its use case?\n",
        "- A nested dictionary is a dictionary where some of the values are themselves dictionaries. This lets you store data in a hierarchical or multi-level structure.\n",
        "Example Use Case:\n",
        "Suppose you want to store information about students and their grades in different subjects:"
      ],
      "metadata": {
        "id": "7EoEFjwsmGGS"
      }
    },
    {
      "cell_type": "code",
      "source": [
        "students = {\n",
        "    \"Alice\": {\"Math\": 90, \"English\": 85},\n",
        "    \"Bob\": {\"Math\": 75, \"English\": 80},\n",
        "    \"Charlie\": {\"Math\": 88, \"English\": 92}\n",
        "}\n",
        "#Here, each student’s name maps to another dictionary that holds their grades by subject."
      ],
      "metadata": {
        "id": "MqKkrH__qfVz"
      },
      "execution_count": null,
      "outputs": []
    },
    {
      "cell_type": "markdown",
      "source": [
        "17.Describe the time complexity of accessing elements in a dictionary?\n",
        "- Accessing elements in a dictionary generally has an average time complexity of O(1) (constant time). This means you can retrieve a value by its key very quickly, regardless of the dictionary’s size.\n",
        "\n"
      ],
      "metadata": {
        "id": "tTYdLDbNi5ED"
      }
    },
    {
      "cell_type": "markdown",
      "source": [
        "18.In what situations are lists preferred over dictionaries?\n",
        "- Lists are preferred over dictionaries when:\n",
        "\n",
        "1. **Order matters** — lists maintain the order of items, which is important for sequences or when you need to access elements by position.\n",
        "2. **You have simple collections of items** without needing key-value pairs.\n",
        "3. **You need to store duplicate elements**, since lists allow duplicates while dictionary keys must be unique.\n",
        "4. **You want to iterate through items in a specific order** (like looping by index).\n",
        "5. **Memory efficiency** — lists generally use less memory than dictionaries for storing simple sequences.\n",
        "\n",
        "So, use lists when you want an ordered, index-based, and possibly duplicate collection of items.\n"
      ],
      "metadata": {
        "id": "-twQlBW6i4_L"
      }
    },
    {
      "cell_type": "markdown",
      "source": [
        "19.Why are dictionaries considered unordered, and how does that affect data retrieval?\n",
        "- Why Are Dictionaries Unordered?\n",
        "  -  Internally, dictionaries use hash tables, which store items based on hashed keys, not insertion order. This means the order of key-value pairs can seem random and change when the dictionary changes.\n",
        "- How Does This Affect Data Retrieval?\n",
        "   - You cannot rely on the order of items when iterating over a dictionary. Data retrieval by key is still fast and direct, but if order matters, you need to use other structures (like collections.OrderedDict in older Python versions).\n",
        "\n"
      ],
      "metadata": {
        "id": "9goFya9vi4s7"
      }
    },
    {
      "cell_type": "markdown",
      "source": [
        "20. Explain the difference between a list and a dictionary in terms of data retrieval.\n",
        "- Here’s the difference between list and dictionary data retrieval:\n",
        "\n",
        "List:\n",
        "You retrieve items by their index position (like my_list[2]).\n",
        "Searching for a value by content (x in my_list) requires checking elements one by one — this is slower (O(n)).\n",
        "\n",
        "Dictionary:\n",
        "You retrieve items by their key (like my_dict[\"key\"]).\n",
        "Thanks to hashing, looking up a value by key is very fast (average O(1)), no matter how large the dictionary is."
      ],
      "metadata": {
        "id": "k9kfPb3Ks5jz"
      }
    },
    {
      "cell_type": "markdown",
      "source": [
        "# Practical Questions"
      ],
      "metadata": {
        "id": "KflFr11Q-HW-"
      }
    },
    {
      "cell_type": "markdown",
      "source": [
        "1. Write a code to create a string with your name and print it."
      ],
      "metadata": {
        "id": "5c-JKr8J-TyN"
      }
    },
    {
      "cell_type": "code",
      "source": [
        "name = \"Suman Kar\"\n",
        "print(\"My name is:\",name)"
      ],
      "metadata": {
        "id": "SPNySK4lVYsR",
        "colab": {
          "base_uri": "https://localhost:8080/"
        },
        "outputId": "45c64164-2e20-4166-f5f8-6a6c32e75f4e"
      },
      "execution_count": 1,
      "outputs": [
        {
          "output_type": "stream",
          "name": "stdout",
          "text": [
            "My name is: Suman Kar\n"
          ]
        }
      ]
    },
    {
      "cell_type": "markdown",
      "source": [
        "2. Write a code to find the length of the string \"Hello World\"."
      ],
      "metadata": {
        "id": "LEuZMG8t-pF_"
      }
    },
    {
      "cell_type": "code",
      "source": [
        "string = \"Hello World\"\n",
        "q=len(string)\n",
        "print( \"The length is:\",q)"
      ],
      "metadata": {
        "colab": {
          "base_uri": "https://localhost:8080/"
        },
        "id": "l_fLCGPJ-ogl",
        "outputId": "79192279-5091-49c0-95dc-723cd38b2a15"
      },
      "execution_count": 3,
      "outputs": [
        {
          "output_type": "stream",
          "name": "stdout",
          "text": [
            "The length is: 11\n"
          ]
        }
      ]
    },
    {
      "cell_type": "markdown",
      "source": [
        "3. Write a code to slice the first 3 characters from the string \"Python Programming\"."
      ],
      "metadata": {
        "id": "XXxBCSXC_HVm"
      }
    },
    {
      "cell_type": "code",
      "source": [
        "string1 = \"Python Programming\"\n",
        "sliced_string1= string1[:3]\n",
        "print ( sliced_string1)"
      ],
      "metadata": {
        "colab": {
          "base_uri": "https://localhost:8080/"
        },
        "id": "1uQGVDpZ-obQ",
        "outputId": "f28f193c-6f8d-4f22-c684-a4958920a768"
      },
      "execution_count": 4,
      "outputs": [
        {
          "output_type": "stream",
          "name": "stdout",
          "text": [
            "Pyt\n"
          ]
        }
      ]
    },
    {
      "cell_type": "markdown",
      "source": [
        "4. Write a code to convert the string \"hello\" to uppercase."
      ],
      "metadata": {
        "id": "fXqWP-lS_UaG"
      }
    },
    {
      "cell_type": "code",
      "source": [
        "string2 = \"hello\"\n",
        "upper_string2 = string2.upper()\n",
        "print(upper_string2)"
      ],
      "metadata": {
        "colab": {
          "base_uri": "https://localhost:8080/"
        },
        "id": "eJoiB3B_-oYG",
        "outputId": "1d9ad430-3612-4524-ee60-45474bcb00ce"
      },
      "execution_count": 5,
      "outputs": [
        {
          "output_type": "stream",
          "name": "stdout",
          "text": [
            "HELLO\n"
          ]
        }
      ]
    },
    {
      "cell_type": "markdown",
      "source": [
        "5.Write a code to replace the word \"apple\" with \"orange\" in the string \"I like apple\"."
      ],
      "metadata": {
        "id": "wOmlYh4M_nq-"
      }
    },
    {
      "cell_type": "code",
      "source": [
        "text = \"I like apple\"\n",
        "new_text = text.replace(\"apple\", \"orange\")\n",
        "print(new_text)"
      ],
      "metadata": {
        "colab": {
          "base_uri": "https://localhost:8080/"
        },
        "id": "dvRSwB_X-oT9",
        "outputId": "dc80be40-2bb7-41d2-a9a7-853413366d54"
      },
      "execution_count": 6,
      "outputs": [
        {
          "output_type": "stream",
          "name": "stdout",
          "text": [
            "I like orange\n"
          ]
        }
      ]
    },
    {
      "cell_type": "markdown",
      "source": [
        "6. Write a code to create a list with numbers 1 to 5 and print it.\n"
      ],
      "metadata": {
        "id": "XJIzyKHv_pum"
      }
    },
    {
      "cell_type": "code",
      "source": [
        "numbers = list(range(1, 6))\n",
        "print(numbers)"
      ],
      "metadata": {
        "colab": {
          "base_uri": "https://localhost:8080/"
        },
        "id": "QHBaJP2Y-oQH",
        "outputId": "e61a9bbe-d07f-46a8-da7c-9cbb427df14a"
      },
      "execution_count": 7,
      "outputs": [
        {
          "output_type": "stream",
          "name": "stdout",
          "text": [
            "[1, 2, 3, 4, 5]\n"
          ]
        }
      ]
    },
    {
      "cell_type": "markdown",
      "source": [
        "7. Write a code to append the number 10 to the list [1, 2, 3, 4]."
      ],
      "metadata": {
        "id": "WdAFosZ3AdYW"
      }
    },
    {
      "cell_type": "code",
      "source": [
        "lst =  [1, 2, 3, 4]\n",
        "lst.append(10)\n",
        "print(f'new list is:{lst}')"
      ],
      "metadata": {
        "colab": {
          "base_uri": "https://localhost:8080/"
        },
        "id": "6utiQNe8-n9-",
        "outputId": "aaaaa82c-eb38-4ced-8f4e-56d560ea98cd"
      },
      "execution_count": 11,
      "outputs": [
        {
          "output_type": "stream",
          "name": "stdout",
          "text": [
            "new list is:[1, 2, 3, 4, 10]\n"
          ]
        }
      ]
    },
    {
      "cell_type": "markdown",
      "source": [
        "8. Write a code to remove the number 3 from the list [1, 2, 3, 4, 5]."
      ],
      "metadata": {
        "id": "UWJqE61NBF-P"
      }
    },
    {
      "cell_type": "code",
      "source": [
        "list1= [1, 2, 3, 4, 5]\n",
        "list1.remove(3)\n",
        "print(f\"New list is:{list1}\")"
      ],
      "metadata": {
        "colab": {
          "base_uri": "https://localhost:8080/"
        },
        "id": "lOJZEqDX-n42",
        "outputId": "1cd7fddf-20af-4948-ccaa-80fc20e2d436"
      },
      "execution_count": 12,
      "outputs": [
        {
          "output_type": "stream",
          "name": "stdout",
          "text": [
            "New list is:[1, 2, 4, 5]\n"
          ]
        }
      ]
    },
    {
      "cell_type": "markdown",
      "source": [
        "9. Write a code to access the second element in the list ['a', 'b', 'c', 'd']."
      ],
      "metadata": {
        "id": "9lSHHw4cBs0P"
      }
    },
    {
      "cell_type": "code",
      "source": [
        "list2=  ['a', 'b', 'c', 'd']\n",
        "second = list2[1]\n",
        "print (f'Second element is:{second}')"
      ],
      "metadata": {
        "colab": {
          "base_uri": "https://localhost:8080/"
        },
        "id": "vh8lGVeP-n0-",
        "outputId": "cf02ad48-fb9d-4637-b5c1-b13d3257034a"
      },
      "execution_count": 14,
      "outputs": [
        {
          "output_type": "stream",
          "name": "stdout",
          "text": [
            "Second element is:b\n"
          ]
        }
      ]
    },
    {
      "cell_type": "markdown",
      "source": [
        "10. Write a code to reverse the list [10, 20, 30, 40, 50]."
      ],
      "metadata": {
        "id": "vyhX1wloChQC"
      }
    },
    {
      "cell_type": "code",
      "source": [
        "list3= [10, 20, 30, 40, 50]\n",
        "reversed_list = list3[::-1]\n",
        "print(\"Reverse list is:\",reversed_list)"
      ],
      "metadata": {
        "colab": {
          "base_uri": "https://localhost:8080/"
        },
        "id": "pOiLLwxG-neW",
        "outputId": "4e6bc9e4-2728-4b79-e36d-b86b0d13e979"
      },
      "execution_count": 18,
      "outputs": [
        {
          "output_type": "stream",
          "name": "stdout",
          "text": [
            "Reverse list is: [50, 40, 30, 20, 10]\n"
          ]
        }
      ]
    },
    {
      "cell_type": "markdown",
      "source": [
        "11. Write a code to create a tuple with the elements 100, 200, 300 and print it."
      ],
      "metadata": {
        "id": "s0d_2Z7wCiih"
      }
    },
    {
      "cell_type": "code",
      "source": [
        "my_tuple = (100, 200, 300)\n",
        "print(my_tuple)"
      ],
      "metadata": {
        "colab": {
          "base_uri": "https://localhost:8080/"
        },
        "id": "uDdkMeZ2CjFK",
        "outputId": "406f37a8-c64f-4181-e083-04ece9059d58"
      },
      "execution_count": 19,
      "outputs": [
        {
          "output_type": "stream",
          "name": "stdout",
          "text": [
            "(100, 200, 300)\n"
          ]
        }
      ]
    },
    {
      "cell_type": "markdown",
      "source": [
        "12. Write a code to access the second-to-last element of the tuple ('red', 'green', 'blue', 'yellow')."
      ],
      "metadata": {
        "id": "bkKlzTvACjhJ"
      }
    },
    {
      "cell_type": "code",
      "source": [
        "my_tuple1 = ('red', 'green', 'blue', 'yellow')\n",
        "h=my_tuple1[1:]\n",
        "print(h)"
      ],
      "metadata": {
        "colab": {
          "base_uri": "https://localhost:8080/"
        },
        "id": "MU6H46jCCkDh",
        "outputId": "08cf21f5-ee6b-4a2f-ed9f-c34e8138491d"
      },
      "execution_count": 20,
      "outputs": [
        {
          "output_type": "stream",
          "name": "stdout",
          "text": [
            "('green', 'blue', 'yellow')\n"
          ]
        }
      ]
    },
    {
      "cell_type": "markdown",
      "source": [
        "13.  Write a code to find the minimum number in the tuple (10, 20, 5, 15)."
      ],
      "metadata": {
        "id": "jT5HebutCkqY"
      }
    },
    {
      "cell_type": "code",
      "source": [
        "my_tuple2 = (10, 20, 5, 15)\n",
        "minimum_value = min(my_tuple2)\n",
        "print (f'The minimum number in the tuple is:{minimum_value}')"
      ],
      "metadata": {
        "colab": {
          "base_uri": "https://localhost:8080/"
        },
        "id": "1q4r8-CgClNq",
        "outputId": "5d9db76d-1ffa-4687-d389-a2ae748b0ec9"
      },
      "execution_count": 21,
      "outputs": [
        {
          "output_type": "stream",
          "name": "stdout",
          "text": [
            "The minimum number in the tuple is:5\n"
          ]
        }
      ]
    },
    {
      "cell_type": "markdown",
      "source": [
        "14. Write a code to find the index of the element \"cat\" in the tuple ('dog', 'cat', 'rabbit').\n",
        "\n"
      ],
      "metadata": {
        "id": "g2d_EQQZi4BT"
      }
    },
    {
      "cell_type": "code",
      "source": [
        "animals =  ('dog', 'cat', 'rabbit')\n",
        "index_of_cat = animals.index('cat')\n",
        "print(index_of_cat)"
      ],
      "metadata": {
        "colab": {
          "base_uri": "https://localhost:8080/"
        },
        "id": "o57a-Id3Ekp4",
        "outputId": "326df2b6-a197-49ad-918a-46907d0fd954"
      },
      "execution_count": 22,
      "outputs": [
        {
          "output_type": "stream",
          "name": "stdout",
          "text": [
            "1\n"
          ]
        }
      ]
    },
    {
      "cell_type": "markdown",
      "source": [
        "15. Write a code to create a tuple containing three different fruits and check if \"kiwi\" is in it."
      ],
      "metadata": {
        "id": "grULsS3OElMZ"
      }
    },
    {
      "cell_type": "code",
      "source": [
        "fruits = (\"apple\", \"banana\", \"orange\")\n",
        "if \"kiwi\" in fruits:\n",
        "  print(\"Kiwi is in the tuple.\")\n",
        "else:\n",
        "    print(\"Kiwi is not in the tuple.\")\n"
      ],
      "metadata": {
        "colab": {
          "base_uri": "https://localhost:8080/"
        },
        "id": "ZiVHFPcMElto",
        "outputId": "06fa0a4d-b53d-41e0-8021-70164738b424"
      },
      "execution_count": 27,
      "outputs": [
        {
          "output_type": "stream",
          "name": "stdout",
          "text": [
            "Kiwi is not in the tuple.\n"
          ]
        }
      ]
    },
    {
      "cell_type": "markdown",
      "source": [
        "16. Write a code to create a set with the elements 'a', 'b', 'c' and print it."
      ],
      "metadata": {
        "id": "v87YYSTWFGZy"
      }
    },
    {
      "cell_type": "code",
      "source": [
        "set1 = {'a', 'b', 'c'}\n",
        "print(f'The set is:{set1}')"
      ],
      "metadata": {
        "colab": {
          "base_uri": "https://localhost:8080/"
        },
        "id": "2sO4QCi0FWHp",
        "outputId": "c6bf45f5-2b8d-4f8f-a304-ab6832c51907"
      },
      "execution_count": 28,
      "outputs": [
        {
          "output_type": "stream",
          "name": "stdout",
          "text": [
            "The set is:{'c', 'b', 'a'}\n"
          ]
        }
      ]
    },
    {
      "cell_type": "markdown",
      "source": [
        "17. Write a code to clear all elements from the set {1, 2, 3, 4, 5}."
      ],
      "metadata": {
        "id": "atwl07_CFWmo"
      }
    },
    {
      "cell_type": "code",
      "source": [
        "set2 = {1, 2, 3, 4, 5}\n",
        "set2.clear()\n",
        "print (set2)"
      ],
      "metadata": {
        "colab": {
          "base_uri": "https://localhost:8080/"
        },
        "id": "Kl1vc9kfFXE5",
        "outputId": "99d3a1c8-2acd-428d-b458-113a91c5a46f"
      },
      "execution_count": 29,
      "outputs": [
        {
          "output_type": "stream",
          "name": "stdout",
          "text": [
            "set()\n"
          ]
        }
      ]
    },
    {
      "cell_type": "markdown",
      "source": [
        "18. Write a code to remove the element 4 from the set {1, 2, 3, 4}."
      ],
      "metadata": {
        "id": "b-3cAQhLFw5q"
      }
    },
    {
      "cell_type": "code",
      "source": [
        "set3 = {1, 2, 3, 4}\n",
        "set3.remove(4)\n",
        "print (set3)"
      ],
      "metadata": {
        "colab": {
          "base_uri": "https://localhost:8080/"
        },
        "id": "z5bZIPbYFyfj",
        "outputId": "89c8b9f6-8103-476b-bff0-3673f59f0782"
      },
      "execution_count": 30,
      "outputs": [
        {
          "output_type": "stream",
          "name": "stdout",
          "text": [
            "{1, 2, 3}\n"
          ]
        }
      ]
    },
    {
      "cell_type": "markdown",
      "source": [
        "19. Write a code to find the union of two sets {1, 2, 3} and {3, 4, 5}."
      ],
      "metadata": {
        "id": "9OB0y_UUGxMA"
      }
    },
    {
      "cell_type": "code",
      "source": [
        "set4 = {1, 2, 3}\n",
        "set5 = {3, 4, 5}\n",
        "union_set = set4|set5\n",
        "print(f'Union of two sets is:{union_set}')"
      ],
      "metadata": {
        "colab": {
          "base_uri": "https://localhost:8080/"
        },
        "id": "O2IQ--m6Gx6B",
        "outputId": "5c372c38-1d63-4462-da53-a067aeb8a086"
      },
      "execution_count": 31,
      "outputs": [
        {
          "output_type": "stream",
          "name": "stdout",
          "text": [
            "Union of two sets is:{1, 2, 3, 4, 5}\n"
          ]
        }
      ]
    },
    {
      "cell_type": "markdown",
      "source": [
        "20.  Write a code to find the intersection of two sets {1, 2, 3} and {2, 3, 4}."
      ],
      "metadata": {
        "id": "AabpWDJdGyVK"
      }
    },
    {
      "cell_type": "code",
      "source": [
        "set6 = {1, 2, 3}\n",
        "set7 = {2, 3, 4}\n",
        "intersaction_set = set6 & set7\n",
        "print ('Intersection of two sets is:',intersaction_set)"
      ],
      "metadata": {
        "colab": {
          "base_uri": "https://localhost:8080/"
        },
        "id": "ARbf2RmNGyyB",
        "outputId": "98e4ed5b-7977-46fb-9d80-91bc13b491af"
      },
      "execution_count": 33,
      "outputs": [
        {
          "output_type": "stream",
          "name": "stdout",
          "text": [
            "Intersection of two sets is: {2, 3}\n"
          ]
        }
      ]
    },
    {
      "cell_type": "markdown",
      "source": [
        "21. Write a code to create a dictionary with the keys \"name\", \"age\", and \"city\", and print it."
      ],
      "metadata": {
        "id": "MhReyLJZGzlb"
      }
    },
    {
      "cell_type": "code",
      "source": [
        "my_dict = {'name': 'Suman Kar', 'age': 24, 'city': 'Kolkata'}\n",
        "print(my_dict)"
      ],
      "metadata": {
        "colab": {
          "base_uri": "https://localhost:8080/"
        },
        "id": "blyIkH0tG0EB",
        "outputId": "e2163564-d6bf-4226-ab6c-97ad38e221a1"
      },
      "execution_count": 34,
      "outputs": [
        {
          "output_type": "stream",
          "name": "stdout",
          "text": [
            "{'name': 'Suman Kar', 'age': 24, 'city': 'Kolkata'}\n"
          ]
        }
      ]
    },
    {
      "cell_type": "markdown",
      "source": [
        "22.  Write a code to add a new key-value pair \"country\": \"USA\" to the dictionary {'name': 'John', 'age': 25}."
      ],
      "metadata": {
        "id": "5U0-ThNZG0d5"
      }
    },
    {
      "cell_type": "code",
      "source": [
        "my_dict1 =  {'name': 'John', 'age': 25}\n",
        "my_dict1['Country']='USA'\n",
        "print(my_dict1)"
      ],
      "metadata": {
        "colab": {
          "base_uri": "https://localhost:8080/"
        },
        "id": "X38wz38QG1AR",
        "outputId": "a83196a4-ce0b-41ff-9e1e-4640f916ffc5"
      },
      "execution_count": 35,
      "outputs": [
        {
          "output_type": "stream",
          "name": "stdout",
          "text": [
            "{'name': 'John', 'age': 25, 'Country': 'USA'}\n"
          ]
        }
      ]
    },
    {
      "cell_type": "markdown",
      "source": [
        "23. Write a code to access the value associated with the key \"name\" in the dictionary {'name': 'Alice', 'age': 30}."
      ],
      "metadata": {
        "id": "G62OuaEMG1Vh"
      }
    },
    {
      "cell_type": "code",
      "source": [
        "my_dict2 =  {'name': 'Alice', 'age': 30}\n",
        "my_dict2['name']"
      ],
      "metadata": {
        "colab": {
          "base_uri": "https://localhost:8080/",
          "height": 35
        },
        "id": "rODIz7dTG1xr",
        "outputId": "20bc407c-1ad2-42d3-dfe9-b4dfb0fb6f1a"
      },
      "execution_count": 36,
      "outputs": [
        {
          "output_type": "execute_result",
          "data": {
            "text/plain": [
              "'Alice'"
            ],
            "application/vnd.google.colaboratory.intrinsic+json": {
              "type": "string"
            }
          },
          "metadata": {},
          "execution_count": 36
        }
      ]
    },
    {
      "cell_type": "markdown",
      "source": [
        "24. Write a code to remove the key \"age\" from the dictionary {'name': 'Bob', 'age': 22, 'city': 'New York'}."
      ],
      "metadata": {
        "id": "63SNPx2xG2D6"
      }
    },
    {
      "cell_type": "code",
      "source": [
        "my_dict3 =  {'name': 'Bob', 'age': 22, 'city': 'New York'}\n",
        "del my_dict3['age']\n",
        "print(my_dict3)"
      ],
      "metadata": {
        "colab": {
          "base_uri": "https://localhost:8080/"
        },
        "id": "DVS0xGf6G2b6",
        "outputId": "b7b2ca21-ccdc-4340-8ccb-8e1c35f25ad7"
      },
      "execution_count": 37,
      "outputs": [
        {
          "output_type": "stream",
          "name": "stdout",
          "text": [
            "{'name': 'Bob', 'city': 'New York'}\n"
          ]
        }
      ]
    },
    {
      "cell_type": "markdown",
      "source": [
        "25. Write a code to check if the key \"city\" exists in the dictionary {'name': 'Alice', 'city': 'Paris'}."
      ],
      "metadata": {
        "id": "V0vDcubeG2uC"
      }
    },
    {
      "cell_type": "code",
      "source": [
        "data = {'name': 'Alice', 'city': 'Paris'}\n",
        "\n",
        "if 'city' in data:\n",
        "    print(\"Key 'city' exists in the dictionary.\")\n",
        "else:\n",
        "    print(\"Key 'city' does not exist in the dictionary.\")"
      ],
      "metadata": {
        "colab": {
          "base_uri": "https://localhost:8080/"
        },
        "id": "Ukz_0DDtG3Yh",
        "outputId": "14ae80f9-fd90-4c46-cd20-0d0a05d2ebbb"
      },
      "execution_count": 38,
      "outputs": [
        {
          "output_type": "stream",
          "name": "stdout",
          "text": [
            "Key 'city' exists in the dictionary.\n"
          ]
        }
      ]
    },
    {
      "cell_type": "markdown",
      "source": [
        "26. Write a code to create a list, a tuple, and a dictionary, and print them all."
      ],
      "metadata": {
        "id": "3ZhUWZlrJjtk"
      }
    },
    {
      "cell_type": "code",
      "source": [
        "# Creating a list\n",
        "my_list = [1, 2, 3, 4, 5]\n",
        "\n",
        "# Creating a tuple\n",
        "my_tuple = ('apple', 'banana', 'cherry')\n",
        "\n",
        "# Creating a dictionary\n",
        "my_dict = {'name': 'Alice', 'age': 30, 'city': 'Paris'}\n",
        "\n",
        "# Printing all\n",
        "print(\"List:\", my_list)\n",
        "print(\"Tuple:\", my_tuple)\n",
        "print(\"Dictionary:\", my_dict)\n"
      ],
      "metadata": {
        "colab": {
          "base_uri": "https://localhost:8080/"
        },
        "id": "w90Oz4-BJkbL",
        "outputId": "fb225d2b-659c-4138-b4c2-bf2119c0b417"
      },
      "execution_count": 39,
      "outputs": [
        {
          "output_type": "stream",
          "name": "stdout",
          "text": [
            "List: [1, 2, 3, 4, 5]\n",
            "Tuple: ('apple', 'banana', 'cherry')\n",
            "Dictionary: {'name': 'Alice', 'age': 30, 'city': 'Paris'}\n"
          ]
        }
      ]
    },
    {
      "cell_type": "markdown",
      "source": [
        "27. Write a code to create a list of 5 random numbers between 1 and 100, sort it in ascending order, and print the\n",
        "result.(replaced)."
      ],
      "metadata": {
        "id": "Pn_WNGxeJk98"
      }
    },
    {
      "cell_type": "code",
      "source": [
        "import random\n",
        "random_numbers = [random.randint(1, 100) for _ in range(5)]\n",
        "random_numbers.sort()\n",
        "print(\"Sorted list of random numbers:\", random_numbers)\n"
      ],
      "metadata": {
        "colab": {
          "base_uri": "https://localhost:8080/"
        },
        "id": "1ZL5a73qJlWT",
        "outputId": "c9ed91e3-59e9-4bd1-bbf4-2c05580a8c0c"
      },
      "execution_count": 40,
      "outputs": [
        {
          "output_type": "stream",
          "name": "stdout",
          "text": [
            "Sorted list of random numbers: [45, 59, 70, 71, 80]\n"
          ]
        }
      ]
    },
    {
      "cell_type": "markdown",
      "source": [
        "28.  Write a code to create a list with strings and print the element at the third index."
      ],
      "metadata": {
        "id": "H-JZbJPiJmGs"
      }
    },
    {
      "cell_type": "code",
      "source": [
        "lst5 = ['suman', 'raju','laila','bhalu', 'golu']\n",
        "print('Element at the third index is:',lst5[3])"
      ],
      "metadata": {
        "colab": {
          "base_uri": "https://localhost:8080/"
        },
        "id": "KXCboTvvJmec",
        "outputId": "2b10588b-b71d-4ba8-ab99-3d886cb6acf9"
      },
      "execution_count": 41,
      "outputs": [
        {
          "output_type": "stream",
          "name": "stdout",
          "text": [
            "Element at the third index is: bhalu\n"
          ]
        }
      ]
    },
    {
      "cell_type": "markdown",
      "source": [
        "29.  Write a code to combine two dictionaries into one and print the result."
      ],
      "metadata": {
        "id": "sC7Y3NUHJm48"
      }
    },
    {
      "cell_type": "code",
      "source": [
        "dict1 = {'a': 1, 'b': 2}\n",
        "dict2 = {'c': 3, 'd': 4}\n",
        "combined_dict = dict1.copy()\n",
        "combined_dict.update(dict2)\n",
        "print(\"Combined dictionary:\", combined_dict)"
      ],
      "metadata": {
        "colab": {
          "base_uri": "https://localhost:8080/"
        },
        "id": "9srDLtNhJnY0",
        "outputId": "e1343898-0cb6-40ee-b22f-43c68c9aa56a"
      },
      "execution_count": 42,
      "outputs": [
        {
          "output_type": "stream",
          "name": "stdout",
          "text": [
            "Combined dictionary: {'a': 1, 'b': 2, 'c': 3, 'd': 4}\n"
          ]
        }
      ]
    },
    {
      "cell_type": "markdown",
      "source": [
        "30. Write a code to convert a list of strings into a set."
      ],
      "metadata": {
        "id": "2_6OW539Jn3U"
      }
    },
    {
      "cell_type": "code",
      "source": [
        "fruits = ['apple', 'banana', 'cherry', 'apple', 'banana']\n",
        "fruits_set = set(fruits)\n",
        "print(\"Set:\", fruits_set)"
      ],
      "metadata": {
        "colab": {
          "base_uri": "https://localhost:8080/"
        },
        "id": "K8nu1cXlJoOE",
        "outputId": "3270fea9-b795-4ffc-f495-aa09c9aaa877"
      },
      "execution_count": 43,
      "outputs": [
        {
          "output_type": "stream",
          "name": "stdout",
          "text": [
            "Set: {'apple', 'cherry', 'banana'}\n"
          ]
        }
      ]
    }
  ]
}